{
 "cells": [
  {
   "cell_type": "code",
   "execution_count": 1,
   "id": "65343998",
   "metadata": {},
   "outputs": [
    {
     "name": "stdout",
     "output_type": "stream",
     "text": [
      "Hello World\n"
     ]
    }
   ],
   "source": [
    "# i want to print hello  world\n",
    "print(\"Hello World\")"
   ]
  },
  {
   "cell_type": "code",
   "execution_count": 2,
   "id": "a8dffd22",
   "metadata": {},
   "outputs": [],
   "source": [
    "instructor = \"Lilian\""
   ]
  },
  {
   "cell_type": "code",
   "execution_count": 3,
   "id": "2118a600",
   "metadata": {},
   "outputs": [
    {
     "name": "stdout",
     "output_type": "stream",
     "text": [
      "Lilian\n"
     ]
    }
   ],
   "source": [
    "print(instructor)"
   ]
  },
  {
   "cell_type": "code",
   "execution_count": 9,
   "id": "e986fc5f",
   "metadata": {},
   "outputs": [
    {
     "name": "stdout",
     "output_type": "stream",
     "text": [
      "What is your name: Lilian\n",
      "Lilian\n"
     ]
    }
   ],
   "source": [
    "#I want to ask the user for their name\n",
    "name = input(\"What is your name: \")\n",
    "print(name)"
   ]
  },
  {
   "cell_type": "code",
   "execution_count": 10,
   "id": "e91d064f",
   "metadata": {},
   "outputs": [],
   "source": [
    "age = 27"
   ]
  },
  {
   "cell_type": "code",
   "execution_count": 12,
   "id": "0a9d6be2",
   "metadata": {},
   "outputs": [
    {
     "name": "stdout",
     "output_type": "stream",
     "text": [
      "<class 'int'>\n"
     ]
    }
   ],
   "source": [
    "print (type(age))"
   ]
  },
  {
   "cell_type": "code",
   "execution_count": 16,
   "id": "1470ae97",
   "metadata": {},
   "outputs": [
    {
     "name": "stdout",
     "output_type": "stream",
     "text": [
      "<class 'str'>\n"
     ]
    },
    {
     "data": {
      "text/plain": [
       "False"
      ]
     },
     "execution_count": 16,
     "metadata": {},
     "output_type": "execute_result"
    }
   ],
   "source": [
    "bool(print(type(\"the sky is blue\")))"
   ]
  },
  {
   "cell_type": "code",
   "execution_count": 17,
   "id": "3c1342b1",
   "metadata": {},
   "outputs": [],
   "source": [
    "boolean = True"
   ]
  },
  {
   "cell_type": "code",
   "execution_count": 19,
   "id": "4cd0d472",
   "metadata": {},
   "outputs": [
    {
     "name": "stdout",
     "output_type": "stream",
     "text": [
      "<class 'bool'>\n"
     ]
    }
   ],
   "source": [
    "print(type(boolean))"
   ]
  },
  {
   "cell_type": "code",
   "execution_count": 21,
   "id": "de01630a",
   "metadata": {},
   "outputs": [],
   "source": [
    "age2 = 27\n",
    "name = \"Lilian\""
   ]
  },
  {
   "cell_type": "code",
   "execution_count": 23,
   "id": "9555bd02",
   "metadata": {},
   "outputs": [
    {
     "name": "stdout",
     "output_type": "stream",
     "text": [
      "Lilian is 27 years old\n"
     ]
    }
   ],
   "source": [
    "#Explanation of F-string\n",
    "print(f\"{name} is {age2} years old\")"
   ]
  },
  {
   "cell_type": "code",
   "execution_count": 26,
   "id": "f3454e2b",
   "metadata": {},
   "outputs": [
    {
     "name": "stdout",
     "output_type": "stream",
     "text": [
      "josh\n"
     ]
    }
   ],
   "source": [
    "student = \"josh\"\n",
    "print(student)"
   ]
  },
  {
   "cell_type": "code",
   "execution_count": 28,
   "id": "0eb8250c",
   "metadata": {},
   "outputs": [
    {
     "data": {
      "text/plain": [
       "'JOSH'"
      ]
     },
     "execution_count": 28,
     "metadata": {},
     "output_type": "execute_result"
    }
   ],
   "source": [
    "student.capitalize()\n",
    "student.upper()"
   ]
  },
  {
   "cell_type": "code",
   "execution_count": 38,
   "id": "2a351fd5",
   "metadata": {},
   "outputs": [],
   "source": [
    "#This is the user's name\n",
    "name = \"Lilian\""
   ]
  },
  {
   "cell_type": "code",
   "execution_count": 39,
   "id": "186d73d4",
   "metadata": {},
   "outputs": [
    {
     "name": "stdout",
     "output_type": "stream",
     "text": [
      " Hello, Lilian!\n"
     ]
    }
   ],
   "source": [
    "#This greets the user\n",
    "print(f\" Hello, {name}!\")"
   ]
  },
  {
   "cell_type": "code",
   "execution_count": 46,
   "id": "0c5db146",
   "metadata": {},
   "outputs": [
    {
     "name": "stdout",
     "output_type": "stream",
     "text": [
      "68°F = 20.0°C\n"
     ]
    }
   ],
   "source": [
    "#calculating celsius from fahrenheit\n",
    "fahrenheit = 68\n",
    "celsius = (fahrenheit - 32)/1.8\n",
    "print(f\"{fahrenheit}°F = {celsius}°C\")"
   ]
  },
  {
   "cell_type": "code",
   "execution_count": 47,
   "id": "4f7da0fd",
   "metadata": {},
   "outputs": [
    {
     "name": "stdout",
     "output_type": "stream",
     "text": [
      "False\n",
      "True\n",
      "False\n",
      "True\n",
      "False\n",
      "True\n"
     ]
    }
   ],
   "source": [
    "var1 = 5\n",
    "var2 = 10\n",
    "\n",
    "print(var1 == var2)\n",
    "print(var1 != var2)\n",
    "print(var1 >= var2)\n",
    "print(var1 <= var2)\n",
    "print(var1 > var2)\n",
    "print(var1 < var2)"
   ]
  },
  {
   "cell_type": "code",
   "execution_count": 50,
   "id": "64eeb5cd",
   "metadata": {},
   "outputs": [],
   "source": [
    "var3 = \"emmanuel\"\n",
    "var4 = \"Joshua\""
   ]
  },
  {
   "cell_type": "code",
   "execution_count": 51,
   "id": "89513868",
   "metadata": {},
   "outputs": [
    {
     "name": "stdout",
     "output_type": "stream",
     "text": [
      "This name contains e\n"
     ]
    }
   ],
   "source": [
    "if var3.startswith('E'):\n",
    "    print('This name starts with E')\n",
    "elif 'e' in var3:\n",
    "    print('This name contains e')\n",
    "else:\n",
    "    print('This name does not start with E')"
   ]
  },
  {
   "cell_type": "code",
   "execution_count": 1,
   "id": "8354fa18",
   "metadata": {},
   "outputs": [],
   "source": [
    "Score = 85"
   ]
  },
  {
   "cell_type": "code",
   "execution_count": 2,
   "id": "610c2a11",
   "metadata": {},
   "outputs": [
    {
     "name": "stdout",
     "output_type": "stream",
     "text": [
      "Good\n"
     ]
    }
   ],
   "source": [
    "if Score >=90:\n",
    "    print('Excellent')\n",
    "elif Score>= 70 and Score<= 89:\n",
    "    print('Good')\n",
    "elif Score>=50 and Score<= 69:\n",
    "    print('Average')\n",
    "elif Score<50:\n",
    "    print('Below Average')\n",
    "else: \n",
    "    print('N/A')"
   ]
  },
  {
   "cell_type": "code",
   "execution_count": 7,
   "id": "610f1759",
   "metadata": {
    "scrolled": true
   },
   "outputs": [
    {
     "name": "stdout",
     "output_type": "stream",
     "text": [
      "What is your score: 55\n",
      "Average\n"
     ]
    }
   ],
   "source": [
    "Score = int(input ('What is your score: '))\n",
    "if Score >=90:\n",
    "    print('Excellent')\n",
    "elif Score>= 70 and Score<= 89:\n",
    "    print('Good')\n",
    "elif Score>=50 and Score<= 69:\n",
    "    print('Average')\n",
    "elif Score<50:\n",
    "    print('Below Average')\n",
    "else: \n",
    "    print('N/A')"
   ]
  }
 ],
 "metadata": {
  "kernelspec": {
   "display_name": "Python 3 (ipykernel)",
   "language": "python",
   "name": "python3"
  },
  "language_info": {
   "codemirror_mode": {
    "name": "ipython",
    "version": 3
   },
   "file_extension": ".py",
   "mimetype": "text/x-python",
   "name": "python",
   "nbconvert_exporter": "python",
   "pygments_lexer": "ipython3",
   "version": "3.11.3"
  }
 },
 "nbformat": 4,
 "nbformat_minor": 5
}
